{
 "cells": [
  {
   "cell_type": "markdown",
   "metadata": {},
   "source": [
    "# 1. Plik konfiguracyjny"
   ]
  },
  {
   "cell_type": "markdown",
   "metadata": {},
   "source": [
    "tworzymy plik **.env** i wpisujemy np.:\n",
    "\n",
    "- pip install python-dotenv\n",
    "\n",
    "- plik moe zawierać np. takie informacje:\n",
    "\n",
    "FIRST_NAME = Marek \\\n",
    "LAST_NAME = Budzicz \\\n",
    "EMAIL = markowian22@gmail.com "
   ]
  },
  {
   "cell_type": "code",
   "execution_count": 101,
   "metadata": {},
   "outputs": [],
   "source": [
    "from os import environ, getenv\n",
    "from dotenv import load_dotenv\n",
    "s"
   ]
  },
  {
   "cell_type": "code",
   "execution_count": 103,
   "metadata": {},
   "outputs": [
    {
     "name": "stdout",
     "output_type": "stream",
     "text": [
      "'FIRST_NAME' : MAREK\n",
      "'LAST_NAME' : BUDZICZ\n",
      "'EMAIL' : markowian22@gmail.com\n"
     ]
    }
   ],
   "source": [
    "load_dotenv()\n",
    "print(f\"'FIRST_NAME' : {getenv('FIRST_NAME')}\")\n",
    "print(f\"'LAST_NAME' : {getenv('LAST_NAME')}\")\n",
    "print(f\"'EMAIL' : {getenv('EMAIL')}\")"
   ]
  },
  {
   "cell_type": "markdown",
   "metadata": {},
   "source": [
    "# 2. Contex Manager"
   ]
  },
  {
   "cell_type": "code",
   "execution_count": null,
   "metadata": {},
   "outputs": [],
   "source": [
    "with open('test.txt', 'r') as file:\n",
    "    lines = file.readlines()\n",
    "    print(lines)"
   ]
  },
  {
   "cell_type": "markdown",
   "metadata": {},
   "source": [
    "# 3. Obsługa baz danych"
   ]
  },
  {
   "cell_type": "code",
   "execution_count": null,
   "metadata": {},
   "outputs": [],
   "source": [
    "import sqlite3\n",
    "\n",
    "with sqlite3.connect('baza.db') as connection:\n",
    "    cursor = connection.cursor()\n",
    "    cursor.execute('SELECT * from books')\n",
    "    print(cursor.fetchall())\n",
    "\n",
    "    for book in cursor.fetchall():\n",
    "        print(book)"
   ]
  },
  {
   "cell_type": "code",
   "execution_count": null,
   "metadata": {},
   "outputs": [],
   "source": [
    "cursor.execute('SELECT * FROM books WHERE author=?' , ('Marek Budzicz', )) # przykład w którym dodajemy dane z pythona w tupli do zapytania\n",
    "cursor.execute('INSERT INTO items VALUES(null, ?, ?, ?, ?)')  # przykład w którym dodajemy wiele elemenów pod kazda kolumnę"
   ]
  },
  {
   "cell_type": "markdown",
   "metadata": {},
   "source": [
    "### Testowanie połączenia z bazą danych"
   ]
  },
  {
   "cell_type": "code",
   "execution_count": null,
   "metadata": {},
   "outputs": [],
   "source": [
    "## plik który nazywa sie data_base.py\n",
    "## ta część kodu to połączenie się z bazą danych oraz wywołanie zapytania\n",
    "\n",
    "def create_connection():\n",
    "    with sqlite3.connect('baza.db') as connection:\n",
    "        cursor = connection.cursor()\n",
    "        return cursor\n",
    "    \n",
    "def get_data(cursor):\n",
    "    data = []\n",
    "    cursor.execute('SELECT * FROM books WHERE author=?' , ('Marek Budzicz', ))\n",
    "\n",
    "    for book in cursor.fetchall():\n",
    "        data.append(book)\n",
    "    return data\n",
    "\n",
    "if __name__=='__main__':\n",
    "    cursor = create_connection()\n",
    "    data = get_data(cursor)\n",
    "    print(data)"
   ]
  },
  {
   "cell_type": "markdown",
   "metadata": {},
   "source": [
    "##### testowanie połączenia"
   ]
  },
  {
   "cell_type": "code",
   "execution_count": 25,
   "metadata": {},
   "outputs": [],
   "source": [
    "import pytest\n",
    "import sqlite3\n",
    "from data_base.py import get_data ## tutaj łączymy się z kodem napisanym wyzej\n",
    "\n",
    "@pytest.fixture\n",
    "def create_database():\n",
    "    connection = sqlite3.connect(':memory') ## tutaj tworzymy pamięć w której będziemy testowac naszą baze danych, zeby nie korzystac z glownej bazy tylko w formie testu z bazy w pamieci\n",
    "    cursor = connection.cursor()\n",
    "    cursor.execute('''\n",
    "        CREATE TABLE books\n",
    "        (id INTEGER, title TEXT, author TEXT, created_at DATE)\n",
    "    ''')\n",
    "    data_sample = [\n",
    "        (1, 'odnoga', 'Marus', '2020-12-23'),\n",
    "        (2, 'marek koks', 'Jula', '2024-02-02')\n",
    "        ]\n",
    "\n",
    "    cursor.executemany('INSERT INTO books VALUES(?, ?, ?, ?)', data_sample)\n",
    "    return cursor\n",
    "\n",
    "def test_get_data(create_database):\n",
    "    cursor = create_database\n",
    "    print(cursor)\n",
    "    assert data[0] ==   (1, 'marek', 'koks', '2022-12-12') # tutaj dajemy wynik jaki nas interesuje zeby sprawdzic np. \n",
    "\n"
   ]
  },
  {
   "cell_type": "markdown",
   "metadata": {},
   "source": [
    "# 4. Wysylka maila"
   ]
  },
  {
   "cell_type": "markdown",
   "metadata": {},
   "source": [
    "- biblioteka **smptlib**"
   ]
  },
  {
   "cell_type": "code",
   "execution_count": null,
   "metadata": {},
   "outputs": [],
   "source": [
    "import smtplib, ssl\n",
    "\n",
    "# zmienne do SMTP_SSL \n",
    "smtp_server = \"smtp.gmail.com\"\n",
    "port = 465\n",
    "\n",
    "# zrobiłem funkcje zeby móc testowac plik\n",
    "def send_mail():\n",
    "    sender_email = \"budziczmarek@gmail.com\"\n",
    "    password = 'peye wzri mhdz kryh'\n",
    "    to_person = 'markowian22@gmail.com'\n",
    "\n",
    "    msg = 'hej'\n",
    "\n",
    "    context = ssl.create_default_context()\n",
    "    context.check_hostname = False\n",
    "    context.verify_mode = ssl.CERT_NONE\n",
    "    with smtplib.SMTP_SSL(smtp_server, port, context=context) as server: # tworzymy server \n",
    "        server.login(sender_email, password) # logowanie się do maila\n",
    "        server.sendmail(sender_email, to_person, 'co tam marus')\n",
    "        \n",
    "\n",
    "\n"
   ]
  },
  {
   "cell_type": "markdown",
   "metadata": {},
   "source": [
    "## testowanie wysyłki maila"
   ]
  },
  {
   "cell_type": "code",
   "execution_count": 71,
   "metadata": {},
   "outputs": [],
   "source": [
    "# importujemy plik powyzej\n",
    "from unittest.mock import patch # importujemy mocka \n",
    "\n",
    "@patch('smtplib.SMTP_SSL')\n",
    "def test_send_mail(mock_smtp):\n",
    "    send_mail()\n",
    "    # tu sprawdzamy ze smtplib został wywołany\n",
    "    mock_smtp.assert_called() \n",
    "    # tu sprawdzamy czy zostaliśmy zalogowani\n",
    "    contex = mock_smtp.return_value.__enter__.return_value\n",
    "    contex.login.assert_called()\n",
    "    # tu sprawdzamy czy mail został wysłany\n",
    "    contex.sendmail.assert_called_with('budziczmarek@gmail.com', 'markowian22@gmail.com', 'treść maila')\n",
    "\n",
    "# w terminal wpisujemy taka komende aby stestowac plik \n",
    "# python -m pytest send_mail.py "
   ]
  },
  {
   "cell_type": "markdown",
   "metadata": {},
   "source": [
    "# 5. Tuple nazwane"
   ]
  },
  {
   "cell_type": "markdown",
   "metadata": {},
   "source": [
    "korzystamy z tego ze jak chcemy stworzyc jakas mala klaske ktróra trzyma tylko imie i nazwisko to zamiast \n",
    "tworzyc klase to tworzymy tuple nazwana. Jest ona niemodyfikowalana i jest przyjemna dla oka"
   ]
  },
  {
   "cell_type": "code",
   "execution_count": 90,
   "metadata": {},
   "outputs": [
    {
     "name": "stdout",
     "output_type": "stream",
     "text": [
      "26\n",
      "Adam\n",
      "Budzicz\n"
     ]
    }
   ],
   "source": [
    "from collections import namedtuple # importujemy tuple nazwaną\n",
    "\n",
    "User = namedtuple('User', ['name', 'surname', 'age'])\n",
    "adam = User('Adam', 'Budzicz', '26')\n",
    "\n",
    "print(adam.age)\n",
    "print(adam.name)\n",
    "print(adam.surname)\n"
   ]
  },
  {
   "cell_type": "markdown",
   "metadata": {},
   "source": [
    "# 6. Szablony zwane TEMPLATEAMI"
   ]
  },
  {
   "cell_type": "code",
   "execution_count": 93,
   "metadata": {},
   "outputs": [
    {
     "name": "stdout",
     "output_type": "stream",
     "text": [
      "marek zajdł dziś 10 pączków!\n",
      "karol zajdł dziś 20 pączków!\n"
     ]
    }
   ],
   "source": [
    "from string import Template\n",
    "\n",
    "message = Template('$first_name zajdł dziś $count pączków!')\n",
    "info = [\n",
    "    ('marek', 10),\n",
    "    ('karol', 20)\n",
    "]\n",
    "\n",
    "for first_name, count in info:\n",
    "    text = message.substitute(first_name=first_name, count=count)\n",
    "    print(text)"
   ]
  }
 ],
 "metadata": {
  "kernelspec": {
   "display_name": ".venv",
   "language": "python",
   "name": "python3"
  },
  "language_info": {
   "codemirror_mode": {
    "name": "ipython",
    "version": 3
   },
   "file_extension": ".py",
   "mimetype": "text/x-python",
   "name": "python",
   "nbconvert_exporter": "python",
   "pygments_lexer": "ipython3",
   "version": "3.12.1"
  }
 },
 "nbformat": 4,
 "nbformat_minor": 2
}
